{
 "cells": [
  {
   "cell_type": "markdown",
   "id": "74359328",
   "metadata": {},
   "source": [
    "# Installing Dependencies"
   ]
  },
  {
   "cell_type": "code",
   "execution_count": 1,
   "id": "fd83a0b4",
   "metadata": {},
   "outputs": [],
   "source": [
    "import numpy as np\n",
    "import cv2\n",
    "import face_recognition\n",
    "import os\n",
    "#from matplotlib import pyplot as plt"
   ]
  },
  {
   "cell_type": "markdown",
   "id": "a481ee6d",
   "metadata": {},
   "source": [
    "# Reading Dataset Image"
   ]
  },
  {
   "cell_type": "code",
   "execution_count": 2,
   "id": "578ce98a",
   "metadata": {},
   "outputs": [
    {
     "name": "stdout",
     "output_type": "stream",
     "text": [
      "WARNING: More than one face found in shrijon.jpg. Only considering the first face.\n"
     ]
    }
   ],
   "source": [
    "def read_img(path):\n",
    "   img = cv2.imread(path)\n",
    "   (h, w) = img.shape[:2]\n",
    "   width = 400\n",
    "   ratio = width / float(w)\n",
    "   height = int(h * ratio)\n",
    "   return cv2.resize(img, (width, height))\n",
    "\n",
    "dataset_encodings = []\n",
    "dataset_names = []\n",
    "face_enc = []\n",
    "dataset_dir = 'dataset'\n",
    "\n",
    "for file in os.listdir(dataset_dir):\n",
    "    img = read_img(dataset_dir + '/' + file)\n",
    "    img_enc = face_recognition.face_encodings(img)[0]\n",
    "    if len(img_enc) > 1:\n",
    "        print(\"WARNING: More than one face found in {}. Only considering the first face.\".format(file))\n",
    "    if len(img_enc) == 0:\n",
    "        print(\"WARNING: No faces found in {}. Ignoring file.\".format(file))\n",
    "    else:\n",
    "        dataset_encodings.append(img_enc)\n",
    "        dataset_names.append(file.split('.')[0])\n",
    " \n",
    " \n",
    "#for i in range(0,len(dataset_encodings)):\n",
    "#    face_enc.append(dataset_encodings[i][0])"
   ]
  },
  {
   "cell_type": "code",
   "execution_count": 3,
   "id": "2c421833",
   "metadata": {},
   "outputs": [
    {
     "data": {
      "text/plain": [
       "['shrijon']"
      ]
     },
     "execution_count": 3,
     "metadata": {},
     "output_type": "execute_result"
    }
   ],
   "source": [
    "dataset_names"
   ]
  },
  {
   "cell_type": "code",
   "execution_count": 5,
   "id": "2b6bff4c",
   "metadata": {},
   "outputs": [],
   "source": [
    "video_capture = cv2.VideoCapture(0)\n",
    "\n",
    "while True:\n",
    "    # Grab a single frame of video\n",
    "    ret, frame = video_capture.read()\n",
    "\n",
    "    # Convert the image from BGR color (which OpenCV uses) to RGB color (which face_recognition uses)\n",
    "    rgb_frame = frame[:, :, ::-1]\n",
    "\n",
    "    # Find all the faces and face enqcodings in the frame of video\n",
    "    face_locations = face_recognition.face_locations(rgb_frame)\n",
    "    face_encodings = face_recognition.face_encodings(rgb_frame, face_locations)\n",
    "\n",
    "    # Loop through each face in this frame of video\n",
    "    for (top, right, bottom, left), face_encoding in zip(face_locations, face_encodings):\n",
    "        # See if the face is a match for the known face(s)\n",
    "        matches = face_recognition.compare_faces(dataset_encodings, face_encoding)\n",
    "\n",
    "        name = \"Unknown\"\n",
    "\n",
    "        # If a match was found in known_face_encodings, just use the first one.\n",
    "        if True in matches:\n",
    "             first_match_index = matches.index(True)\n",
    "             name = dataset_names[first_match_index]\n",
    "\n",
    "        # Or instead, use the known face with the smallest distance to the new face\n",
    "        #face_distances = face_recognition.face_distance(known_face_encodings, face_encoding)\n",
    "        #best_match_index = np.argmin(face_distances)\n",
    "        #if matches[best_match_index]:\n",
    "        #    name = known_face_names[best_match_index]\n",
    "\n",
    "        # Draw a box around the face\n",
    "        cv2.rectangle(frame, (left, top), (right, bottom), (0, 0, 255), 2)\n",
    "\n",
    "        # Draw a label with a name below the face\n",
    "        cv2.rectangle(frame, (left, bottom - 35), (right, bottom), (0, 0, 255), cv2.FILLED)\n",
    "        font = cv2.FONT_HERSHEY_DUPLEX\n",
    "        cv2.putText(frame, name, (left + 6, bottom - 6), font, 1.0, (255, 255, 255), 1)\n",
    "\n",
    "    # Display the resulting image\n",
    "    cv2.imshow('Video', frame)\n",
    "\n",
    "    # Hit 'q' on the keyboard to quit!\n",
    "    if cv2.waitKey(1) & 0xFF == ord('q'):\n",
    "        break\n",
    "\n",
    "# Release handle to the webcam\n",
    "video_capture.release()\n",
    "cv2.destroyAllWindows()"
   ]
  },
  {
   "cell_type": "code",
   "execution_count": null,
   "id": "12349594",
   "metadata": {},
   "outputs": [],
   "source": []
  },
  {
   "cell_type": "code",
   "execution_count": null,
   "id": "5d9b06a3",
   "metadata": {},
   "outputs": [],
   "source": []
  }
 ],
 "metadata": {
  "kernelspec": {
   "display_name": "Python 3",
   "language": "python",
   "name": "python3"
  },
  "language_info": {
   "codemirror_mode": {
    "name": "ipython",
    "version": 3
   },
   "file_extension": ".py",
   "mimetype": "text/x-python",
   "name": "python",
   "nbconvert_exporter": "python",
   "pygments_lexer": "ipython3",
   "version": "3.7.0"
  }
 },
 "nbformat": 4,
 "nbformat_minor": 5
}
