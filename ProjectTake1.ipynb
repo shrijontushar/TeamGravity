{
 "cells": [
  {
   "cell_type": "markdown",
   "id": "74359328",
   "metadata": {},
   "source": [
    "# Installing Dependencies"
   ]
  },
  {
   "cell_type": "code",
   "execution_count": 1,
   "id": "fd83a0b4",
   "metadata": {},
   "outputs": [],
   "source": [
    "import numpy as np\n",
    "import cv2\n",
    "import face_recognition\n",
    "import os"
   ]
  },
  {
   "cell_type": "markdown",
   "id": "a481ee6d",
   "metadata": {},
   "source": [
    "# Reading Dataset Image"
   ]
  },
  {
   "cell_type": "code",
   "execution_count": 3,
   "id": "578ce98a",
   "metadata": {},
   "outputs": [],
   "source": [
    "def read_img(path):\n",
    "   img = cv2.imread(path)\n",
    "   (h, w) = img.shape[:2]\n",
    "   width = 400\n",
    "   ratio = width / float(w)\n",
    "   height = int(h * ratio)\n",
    "   return cv2.resize(img, (width, height))\n",
    "\n",
    "dataset_encodings = []\n",
    "dataset_names = []\n",
    "face_enc = []\n",
    "dataset_dir = 'dataset'\n",
    "\n",
    "for file in os.listdir(dataset_dir):\n",
    "    img = read_img(dataset_dir + '/' + file)\n",
    "    img_enc = face_recognition.face_encodings(img)[0]\n",
    "    if len(img_enc) == 0:\n",
    "        print(\"WARNING: No faces found in {}. Ignoring file.\".format(file))\n",
    "    else:\n",
    "        dataset_encodings.append(img_enc)\n",
    "        dataset_names.append(file.split('.')[0])"
   ]
  },
  {
   "cell_type": "markdown",
   "id": "641758f6",
   "metadata": {},
   "source": [
    "# Webcam"
   ]
  },
  {
   "cell_type": "code",
   "execution_count": 4,
   "id": "2b6bff4c",
   "metadata": {},
   "outputs": [],
   "source": [
    "video_capture = cv2.VideoCapture(0)\n",
    "\n",
    "while True:\n",
    "    ret, frame = video_capture.read()\n",
    "    rgb_frame = frame[:, :, ::-1]\n",
    "\n",
    "    face_locations = face_recognition.face_locations(rgb_frame)\n",
    "    face_encodings = face_recognition.face_encodings(rgb_frame, face_locations)\n",
    "\n",
    "    for (top, right, bottom, left), face_encoding in zip(face_locations, face_encodings):\n",
    "        matches = face_recognition.compare_faces(dataset_encodings, face_encoding)\n",
    "\n",
    "        name = \"Unknown\"\n",
    "\n",
    "        if True in matches:\n",
    "             first_match_index = matches.index(True)\n",
    "             name = dataset_names[first_match_index]\n",
    "            \n",
    "        cv2.rectangle(frame, (left, top), (right, bottom), (0, 0, 255), 2)\n",
    "\n",
    "        cv2.rectangle(frame, (left, bottom - 35), (right, bottom), (0, 0, 255), cv2.FILLED)\n",
    "        font = cv2.FONT_HERSHEY_DUPLEX\n",
    "        cv2.putText(frame, name, (left + 6, bottom - 6), font, 1.0, (255, 255, 255), 1)\n",
    "\n",
    "    cv2.imshow('Video', frame)\n",
    "\n",
    "    if cv2.waitKey(1) & 0xFF == ord('q'):\n",
    "        break\n",
    "\n",
    "video_capture.release()\n",
    "cv2.destroyAllWindows()"
   ]
  }
 ],
 "metadata": {
  "kernelspec": {
   "display_name": "Python 3",
   "language": "python",
   "name": "python3"
  },
  "language_info": {
   "codemirror_mode": {
    "name": "ipython",
    "version": 3
   },
   "file_extension": ".py",
   "mimetype": "text/x-python",
   "name": "python",
   "nbconvert_exporter": "python",
   "pygments_lexer": "ipython3",
   "version": "3.7.0"
  }
 },
 "nbformat": 4,
 "nbformat_minor": 5
}
